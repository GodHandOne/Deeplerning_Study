{
  "nbformat": 4,
  "nbformat_minor": 0,
  "metadata": {
    "colab": {
      "provenance": [],
      "authorship_tag": "ABX9TyPdglptIojm1r4K/4SrwA35",
      "include_colab_link": true
    },
    "kernelspec": {
      "name": "python3",
      "display_name": "Python 3"
    },
    "language_info": {
      "name": "python"
    }
  },
  "cells": [
    {
      "cell_type": "markdown",
      "metadata": {
        "id": "view-in-github",
        "colab_type": "text"
      },
      "source": [
        "<a href=\"https://colab.research.google.com/github/GodHandOne/Deeplerning_Study/blob/Chapter_6/Process_of_machine_learning.ipynb\" target=\"_parent\"><img src=\"https://colab.research.google.com/assets/colab-badge.svg\" alt=\"Open In Colab\"/></a>"
      ]
    },
    {
      "cell_type": "markdown",
      "source": [
        "# 机器学习的通用工作流程"
      ],
      "metadata": {
        "id": "Fh9BpDTGbcJO"
      }
    },
    {
      "cell_type": "markdown",
      "source": [
        "## 定义任务\n",
        "(1)多数情况下，需要自己收集和标注新的数据集\n",
        "如果数据包含图像或自然语言文本，那么可以直接查看一些样本（及其标签）。如果数据包含数值特征，那么最好绘制特征的直方图，大致了解特征的取值范围和不同取值的出现频率。如果数据包括位置信息，那么可以将其绘制在地图上，观察是否出现了任何明显的模式。"
      ],
      "metadata": {
        "id": "LqvUbaNTbVho"
      }
    },
    {
      "cell_type": "markdown",
      "source": [
        "## 开发模型\n",
        "（1）数据准备：它包括向量化、规范化和处理缺失值。输入数据的特征：取值较小（大部分取值在0-1之间)；同质性：所有特征的取值应该大致在同一范围内\n",
        "（2）评估方法：简单的留出验证：数据量很大时可以采用这种方法。K折交叉验证：如果留出验证的样本太少，无法保证可靠性，则应该使用这种方法。重复K折交叉验证：如果可用的数据很少，同时模型评估又需要非常准确，则应该使用这种方法。\n",
        "（3）超越基准：特征工程。过滤没有信息量的特征（特征选择），并利用你对问题的了解，开发可能有用的新特征。选择正确的架构预设。你要使用什么类型的模型架构？密集连接网络、卷积神经网络、循环神经网络还是Transformer？深度学习是不是完成这个任务的好方法，还是说应该使用其他方法？选择足够好的训练配置。你应该使用什么损失函数？批量大小和学习率分别是多少？"
      ],
      "metadata": {
        "id": "96jpjxaHcxry"
      }
    },
    {
      "cell_type": "markdown",
      "source": [
        "## 部署模型\n",
        "（1）将模型部署为REST API：在服务器或云实例上安装TensorFlow，并通过REST API来查询模型预测结果\n",
        "（2）设备上部署模型：\n",
        "（3）在浏览器中部署模型：\n",
        "## 模型优化\n",
        "权重剪枝（weight pruning）。权重张量中的每个元素对预测结果的贡献并不相同。仅保留那些最重要的参数，可以大大减少模型的参数个数。这种方法减少了模型占用的内存资源和计算资源，而且在性能指标方面的代价很小。你可以决定剪枝的范围，从而控制模型大小与精度之间的平衡。\n",
        "\n",
        "权重量化（weight quantization）。深度学习模型使用单精度浮点（float32）权重进行训练。但是可以将权重量化为8位有符号整数（int8），这样得到的推断模型大小只有原始模型的四分之一，但精度仍与原始模型相当。"
      ],
      "metadata": {
        "id": "WQnneVWVc0k3"
      }
    },
    {
      "cell_type": "markdown",
      "source": [
        "## 机器学习项目全流程总结：\n",
        "准备数据。选择评估方法：留出验证还是K折交叉验证？应该将哪一部分数据用于验证？实现统计功效：超越简单基准。扩大模型规模：开发一个过拟合的模型。根据模型在验证数据上的性能，对模型进行正则化并调节超参数。很多机器学习研究往往只关注这一步，但一定要牢记全局。模型准备就绪并且在测试数据上表现出良好性能之后，就可以进行部署了。你首先要为利益相关者设定合理预期。优化最终的推断模型，并将模型部署到目标环境中，如Web服务器、手机、浏览器、嵌入式设备等。监控模型在生产环境中的性能，并不断收集数据，以便开发下一代模型。"
      ],
      "metadata": {
        "id": "lZM-17Sui2VZ"
      }
    }
  ]
}