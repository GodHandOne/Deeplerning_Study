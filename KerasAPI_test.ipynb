{
  "nbformat": 4,
  "nbformat_minor": 0,
  "metadata": {
    "colab": {
      "provenance": [],
      "authorship_tag": "ABX9TyOujGI7tbHHc1Yxhckz6rbz",
      "include_colab_link": true
    },
    "kernelspec": {
      "name": "python3",
      "display_name": "Python 3"
    },
    "language_info": {
      "name": "python"
    }
  },
  "cells": [
    {
      "cell_type": "markdown",
      "metadata": {
        "id": "view-in-github",
        "colab_type": "text"
      },
      "source": [
        "<a href=\"https://colab.research.google.com/github/GodHandOne/Deeplerning_Study/blob/Chapter_3/KerasAPI_test.ipynb\" target=\"_parent\"><img src=\"https://colab.research.google.com/assets/colab-badge.svg\" alt=\"Open In Colab\"/></a>"
      ]
    },
    {
      "cell_type": "markdown",
      "source": [
        "# 了解Keras的核心API"
      ],
      "metadata": {
        "id": "iuPYGikCQSPg"
      }
    },
    {
      "cell_type": "markdown",
      "source": [
        "## Dense层的实现"
      ],
      "metadata": {
        "id": "SDMxEwzKQZXL"
      }
    },
    {
      "cell_type": "code",
      "execution_count": 2,
      "metadata": {
        "id": "q-J68RzftCU_"
      },
      "outputs": [],
      "source": [
        "import tensorflow as tf\n",
        "from tensorflow import keras\n",
        "\n",
        "class SimpleDense(keras.layers.Layer):\n",
        "    def __init__(self, units, activation=None):\n",
        "        super().__init__()\n",
        "        self.units = units\n",
        "        self.activation = activation\n",
        "\n",
        "    def build(self, input_shape):  # build方法中创建权重\n",
        "        input_dim = input_shape[-1]\n",
        "        self.W = self.add_weight(shape=(input_dim, self.units),initializer=\"random_normal\")\n",
        "        self.b = self.add_weight(shape=(self.units,),initializer=\"zeros\")\n",
        "\n",
        "    def call(self, inputs): # call方法中定义前向传播计算过程\n",
        "        y = tf.matmul(inputs, self.W) + self.b\n",
        "        if self.activation is not None:\n",
        "            y = self.activation(y)\n",
        "        return y"
      ]
    },
    {
      "cell_type": "markdown",
      "source": [
        "##对层进行实例化测试"
      ],
      "metadata": {
        "id": "f8jgVYhISjYL"
      }
    },
    {
      "cell_type": "code",
      "source": [
        "my_dense=SimpleDense(units=32,activation=tf.nn.relu)\n",
        "input_tensor=tf.ones(shape=(5,784))\n",
        "print(input_tensor)\n",
        "output_tensor=my_dense(input_tensor)\n",
        "print(output_tensor)"
      ],
      "metadata": {
        "colab": {
          "base_uri": "https://localhost:8080/"
        },
        "id": "TJ9Lfsx-SjK4",
        "outputId": "0ba0a9c7-c147-4ff6-81ed-d3c13099677a"
      },
      "execution_count": 9,
      "outputs": [
        {
          "output_type": "stream",
          "name": "stdout",
          "text": [
            "tf.Tensor(\n",
            "[[1. 1. 1. ... 1. 1. 1.]\n",
            " [1. 1. 1. ... 1. 1. 1.]\n",
            " [1. 1. 1. ... 1. 1. 1.]\n",
            " [1. 1. 1. ... 1. 1. 1.]\n",
            " [1. 1. 1. ... 1. 1. 1.]], shape=(5, 784), dtype=float32)\n",
            "tf.Tensor(\n",
            "[[0.         0.         1.6457102  1.4941249  0.         1.5837317\n",
            "  0.         1.8391149  1.522424   0.         2.149601   1.6409099\n",
            "  0.         0.5041622  3.2848248  3.3558016  0.         1.363205\n",
            "  0.         2.0231903  0.6068451  2.2618003  0.6861208  0.59084666\n",
            "  1.1703461  1.6164205  1.1740979  2.0147169  0.6788005  0.\n",
            "  0.         1.1436468 ]\n",
            " [0.         0.         1.6457102  1.4941249  0.         1.5837317\n",
            "  0.         1.8391149  1.522424   0.         2.149601   1.6409099\n",
            "  0.         0.5041622  3.2848248  3.3558016  0.         1.363205\n",
            "  0.         2.0231903  0.6068451  2.2618003  0.6861208  0.59084666\n",
            "  1.1703461  1.6164205  1.1740979  2.0147169  0.6788005  0.\n",
            "  0.         1.1436468 ]\n",
            " [0.         0.         1.6457102  1.4941249  0.         1.5837317\n",
            "  0.         1.8391149  1.522424   0.         2.149601   1.6409099\n",
            "  0.         0.5041622  3.2848248  3.3558016  0.         1.363205\n",
            "  0.         2.0231903  0.6068451  2.2618003  0.6861208  0.59084666\n",
            "  1.1703461  1.6164205  1.1740979  2.0147169  0.6788005  0.\n",
            "  0.         1.1436468 ]\n",
            " [0.         0.         1.6457102  1.4941249  0.         1.5837317\n",
            "  0.         1.8391149  1.522424   0.         2.149601   1.6409099\n",
            "  0.         0.5041622  3.2848248  3.3558016  0.         1.363205\n",
            "  0.         2.0231903  0.6068451  2.2618003  0.6861208  0.59084666\n",
            "  1.1703461  1.6164205  1.1740979  2.0147169  0.6788005  0.\n",
            "  0.         1.1436468 ]\n",
            " [0.         0.         1.6457102  1.4941249  0.         1.5837317\n",
            "  0.         1.8391149  1.522424   0.         2.149601   1.6409099\n",
            "  0.         0.5041622  3.2848248  3.3558016  0.         1.363205\n",
            "  0.         2.0231903  0.6068451  2.2618003  0.6861208  0.59084666\n",
            "  1.1703461  1.6164205  1.1740979  2.0147169  0.6788005  0.\n",
            "  0.         1.1436468 ]], shape=(5, 32), dtype=float32)\n"
          ]
        }
      ]
    },
    {
      "cell_type": "markdown",
      "source": [
        "自动推断状态，动态构建层\n",
        "\n",
        "层兼容性：每一层只接收特定形状的输入张量，并返回特定形状的输出张量\n",
        "\n",
        "在实现层时，将前向传播放在call（）方法中"
      ],
      "metadata": {
        "id": "T5Y-fIZXXYZV"
      }
    },
    {
      "cell_type": "markdown",
      "source": [
        "在Keras中构建模型通常的方法：\n",
        "\n",
        "①直接作为Model类的子类\n",
        "\n",
        "②使用函数式API，能够用更少的代码"
      ],
      "metadata": {
        "id": "hvpfwIbta4j1"
      }
    },
    {
      "cell_type": "markdown",
      "source": [
        "##compile()方法\n",
        "\n",
        "关键参数：\n",
        "\n",
        "优化器、损失函数、评价指标"
      ],
      "metadata": {
        "id": "RuW1CrUncCI8"
      }
    },
    {
      "cell_type": "code",
      "source": [
        "from keras.engine.training import optimizer\n",
        "model=keras.Sequential([keras.layers.Dense(1)]) # 线性分类器\n",
        "model.compile(optimizer=\"rmsprop\",loss=\"mean_squared_error\",metrics=[\"accuracy\"]) # 指定优化器的名称，损失函数的名称，指标列表\n",
        "\n",
        "# model.compile(optimizer=keras.optimizers.RMSprop(),\n",
        "# loss=keras.losses.MeanSquaredError(),\n",
        "# metrics=[keras.metrics.BinaryAccuracy()]) 另一种书写方法，可以直接调用函数"
      ],
      "metadata": {
        "id": "ngONnpItXX-S"
      },
      "execution_count": null,
      "outputs": []
    },
    {
      "cell_type": "markdown",
      "source": [
        "##fit()方法，执行训练循环\n",
        "\n",
        "关键参数：\n",
        "\n",
        "需要训练的数据（包括输入和目标）、训练轮数（epoch）、每轮小批量梯度下降中使用的批量大小"
      ],
      "metadata": {
        "id": "RKeDs5XJePaI"
      }
    },
    {
      "cell_type": "code",
      "source": [
        "history = model.fit(\n",
        "    inputs, #输入样本，一个NumPy数组\n",
        "    targets,  #对应的训练目标，一个NumPy数组\n",
        "    epochs=5,  #训练循环将对数据迭代5次\n",
        "    batch_size=128  #训练循环的批量大小为128\n",
        ")"
      ],
      "metadata": {
        "id": "n9FW5VengYNp"
      },
      "execution_count": null,
      "outputs": []
    },
    {
      "cell_type": "markdown",
      "source": [
        "要想查看模型在新数据上的性能，标准做法是保留训练数据的一个子集作为验证数据（validation data）。你不会在这部分数据上训练模型，但会用它来计算损失值和指标值。实现方法是在fit()中使用validation_data参数，和训练数据一样，验证数据也可以作为NumPy数组或TensorFlow Dataset对象传入。"
      ],
      "metadata": {
        "id": "wqgftMTOgvOY"
      }
    },
    {
      "cell_type": "code",
      "source": [
        "model = keras.Sequential([keras.layers.Dense(1)])\n",
        "model.compile(optimizer=keras.optimizers.RMSprop(learning_rate=0.1),\n",
        "              loss=keras.losses.MeanSquaredError(),\n",
        "              metrics=[keras.metrics.BinaryAccuracy()])\n",
        "\n",
        "indices_permutation = np.random.permutation(len(inputs))  # (本行及以下2行)为避免验证数据都来自同一个类别，需要使用随机索引排列将数据打乱\n",
        "shuffled_inputs = inputs[indices_permutation]\n",
        "shuffled_targets = targets[indices_permutation]\n",
        "\n",
        "num_validation_samples = int(0.3 * len(inputs))  # (本行及以下4行)保留30%的训练数据用于验证（我们不会将这部分数据用于训练，而是保留下来用于计算验证损失和指标）\n",
        "val_inputs = shuffled_inputs[:num_validation_samples]\n",
        "val_targets = shuffled_targets[:num_validation_samples]\n",
        "training_inputs = shuffled_inputs[num_validation_samples:]\n",
        "training_targets = shuffled_targets[num_validation_samples:]\n",
        "model.fit(\n",
        "    training_inputs,  # (本行及以下1行)训练数据，用于更新模型权重\n",
        "    training_targets,\n",
        "    epochs=5,\n",
        "    batch_size=16,\n",
        "    validation_data=(val_inputs, val_targets)  #验证数据，仅用来监控验证损失和指标\n",
        ")"
      ],
      "metadata": {
        "id": "0yqzDBnUg-HC"
      },
      "execution_count": null,
      "outputs": []
    },
    {
      "cell_type": "markdown",
      "source": [
        "## 在训练完成后计算验证损失和指标，调用evaluate()方法"
      ],
      "metadata": {
        "id": "eGN9oijthxzX"
      }
    },
    {
      "cell_type": "code",
      "source": [
        "loss_and_metrics = model.evaluate(val_inputs, val_targets, batch_size=128)"
      ],
      "metadata": {
        "id": "C2-EsNTdh5ZQ"
      },
      "execution_count": null,
      "outputs": []
    },
    {
      "cell_type": "markdown",
      "source": [
        "##推断\n",
        "在训练好模型后来对新的数据进行预测"
      ],
      "metadata": {
        "id": "hJ_fsgNyiH27"
      }
    },
    {
      "cell_type": "code",
      "source": [
        "#方法1\n",
        "predictions = model(new_inputs)  # 接收一个NumPy数组或TensorFlow张量，返回一个TensorFlow张量\n",
        "#方法2\n",
        "predictions = model.predict(new_inputs, batch_size=128)  #接收一个NumPy数组或Dataset对象，返回一个NumPy数组"
      ],
      "metadata": {
        "id": "fyDg3jQfiPjy"
      },
      "execution_count": null,
      "outputs": []
    }
  ]
}